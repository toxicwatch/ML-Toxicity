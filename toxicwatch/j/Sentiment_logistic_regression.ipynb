{
 "cells": [
  {
   "cell_type": "code",
   "execution_count": 1,
   "metadata": {},
   "outputs": [],
   "source": [
    "%matplotlib inline\n",
    "import matplotlib.pyplot as plt\n",
    "import pandas as pd\n",
    "import os\n",
    "import numpy as np"
   ]
  },
  {
   "cell_type": "code",
   "execution_count": 2,
   "metadata": {},
   "outputs": [
    {
     "data": {
      "text/html": [
       "<div>\n",
       "<style scoped>\n",
       "    .dataframe tbody tr th:only-of-type {\n",
       "        vertical-align: middle;\n",
       "    }\n",
       "\n",
       "    .dataframe tbody tr th {\n",
       "        vertical-align: top;\n",
       "    }\n",
       "\n",
       "    .dataframe thead th {\n",
       "        text-align: right;\n",
       "    }\n",
       "</style>\n",
       "<table border=\"1\" class=\"dataframe\">\n",
       "  <thead>\n",
       "    <tr style=\"text-align: right;\">\n",
       "      <th></th>\n",
       "      <th>Unnamed: 0</th>\n",
       "      <th>id</th>\n",
       "      <th>comment_text</th>\n",
       "      <th>toxic</th>\n",
       "      <th>severe_toxic</th>\n",
       "      <th>obscene</th>\n",
       "      <th>threat</th>\n",
       "      <th>insult</th>\n",
       "      <th>identity_hate</th>\n",
       "      <th>compound</th>\n",
       "      <th>positive</th>\n",
       "      <th>negative</th>\n",
       "      <th>neutral</th>\n",
       "    </tr>\n",
       "  </thead>\n",
       "  <tbody>\n",
       "    <tr>\n",
       "      <th>0</th>\n",
       "      <td>0</td>\n",
       "      <td>0000997932d777bf</td>\n",
       "      <td>Explanation\\r\\nWhy the edits made under my use...</td>\n",
       "      <td>0</td>\n",
       "      <td>0</td>\n",
       "      <td>0</td>\n",
       "      <td>0</td>\n",
       "      <td>0</td>\n",
       "      <td>0</td>\n",
       "      <td>0.5574</td>\n",
       "      <td>0.103</td>\n",
       "      <td>0.000</td>\n",
       "      <td>0.897</td>\n",
       "    </tr>\n",
       "    <tr>\n",
       "      <th>1</th>\n",
       "      <td>1</td>\n",
       "      <td>000103f0d9cfb60f</td>\n",
       "      <td>D'aww! He matches this background colour I'm s...</td>\n",
       "      <td>0</td>\n",
       "      <td>0</td>\n",
       "      <td>0</td>\n",
       "      <td>0</td>\n",
       "      <td>0</td>\n",
       "      <td>0</td>\n",
       "      <td>0.2942</td>\n",
       "      <td>0.158</td>\n",
       "      <td>0.099</td>\n",
       "      <td>0.743</td>\n",
       "    </tr>\n",
       "    <tr>\n",
       "      <th>2</th>\n",
       "      <td>2</td>\n",
       "      <td>000113f07ec002fd</td>\n",
       "      <td>Hey man, I'm really not trying to edit war. It...</td>\n",
       "      <td>0</td>\n",
       "      <td>0</td>\n",
       "      <td>0</td>\n",
       "      <td>0</td>\n",
       "      <td>0</td>\n",
       "      <td>0</td>\n",
       "      <td>-0.1779</td>\n",
       "      <td>0.068</td>\n",
       "      <td>0.083</td>\n",
       "      <td>0.849</td>\n",
       "    </tr>\n",
       "    <tr>\n",
       "      <th>3</th>\n",
       "      <td>3</td>\n",
       "      <td>0001b41b1c6bb37e</td>\n",
       "      <td>\"\\r\\nMore\\r\\nI can't make any real suggestions...</td>\n",
       "      <td>0</td>\n",
       "      <td>0</td>\n",
       "      <td>0</td>\n",
       "      <td>0</td>\n",
       "      <td>0</td>\n",
       "      <td>0</td>\n",
       "      <td>0.5106</td>\n",
       "      <td>0.062</td>\n",
       "      <td>0.022</td>\n",
       "      <td>0.916</td>\n",
       "    </tr>\n",
       "    <tr>\n",
       "      <th>4</th>\n",
       "      <td>4</td>\n",
       "      <td>0001d958c54c6e35</td>\n",
       "      <td>You, sir, are my hero. Any chance you remember...</td>\n",
       "      <td>0</td>\n",
       "      <td>0</td>\n",
       "      <td>0</td>\n",
       "      <td>0</td>\n",
       "      <td>0</td>\n",
       "      <td>0</td>\n",
       "      <td>0.6808</td>\n",
       "      <td>0.337</td>\n",
       "      <td>0.000</td>\n",
       "      <td>0.663</td>\n",
       "    </tr>\n",
       "    <tr>\n",
       "      <th>5</th>\n",
       "      <td>5</td>\n",
       "      <td>00025465d4725e87</td>\n",
       "      <td>\"\\r\\n\\r\\nCongratulations from me as well, use ...</td>\n",
       "      <td>0</td>\n",
       "      <td>0</td>\n",
       "      <td>0</td>\n",
       "      <td>0</td>\n",
       "      <td>0</td>\n",
       "      <td>0</td>\n",
       "      <td>0.7964</td>\n",
       "      <td>0.503</td>\n",
       "      <td>0.000</td>\n",
       "      <td>0.497</td>\n",
       "    </tr>\n",
       "    <tr>\n",
       "      <th>6</th>\n",
       "      <td>6</td>\n",
       "      <td>0002bcb3da6cb337</td>\n",
       "      <td>COCKSUCKER BEFORE YOU PISS AROUND ON MY WORK</td>\n",
       "      <td>1</td>\n",
       "      <td>1</td>\n",
       "      <td>1</td>\n",
       "      <td>0</td>\n",
       "      <td>1</td>\n",
       "      <td>0</td>\n",
       "      <td>-0.7783</td>\n",
       "      <td>0.000</td>\n",
       "      <td>0.531</td>\n",
       "      <td>0.469</td>\n",
       "    </tr>\n",
       "    <tr>\n",
       "      <th>7</th>\n",
       "      <td>7</td>\n",
       "      <td>00031b1e95af7921</td>\n",
       "      <td>Your vandalism to the Matt Shirvington article...</td>\n",
       "      <td>0</td>\n",
       "      <td>0</td>\n",
       "      <td>0</td>\n",
       "      <td>0</td>\n",
       "      <td>0</td>\n",
       "      <td>0</td>\n",
       "      <td>-0.1779</td>\n",
       "      <td>0.099</td>\n",
       "      <td>0.129</td>\n",
       "      <td>0.773</td>\n",
       "    </tr>\n",
       "    <tr>\n",
       "      <th>8</th>\n",
       "      <td>8</td>\n",
       "      <td>00037261f536c51d</td>\n",
       "      <td>Sorry if the word 'nonsense' was offensive to ...</td>\n",
       "      <td>0</td>\n",
       "      <td>0</td>\n",
       "      <td>0</td>\n",
       "      <td>0</td>\n",
       "      <td>0</td>\n",
       "      <td>0</td>\n",
       "      <td>-0.8020</td>\n",
       "      <td>0.000</td>\n",
       "      <td>0.109</td>\n",
       "      <td>0.891</td>\n",
       "    </tr>\n",
       "    <tr>\n",
       "      <th>9</th>\n",
       "      <td>9</td>\n",
       "      <td>00040093b2687caa</td>\n",
       "      <td>alignment on this subject and which are contra...</td>\n",
       "      <td>0</td>\n",
       "      <td>0</td>\n",
       "      <td>0</td>\n",
       "      <td>0</td>\n",
       "      <td>0</td>\n",
       "      <td>0</td>\n",
       "      <td>0.0000</td>\n",
       "      <td>0.000</td>\n",
       "      <td>0.000</td>\n",
       "      <td>1.000</td>\n",
       "    </tr>\n",
       "  </tbody>\n",
       "</table>\n",
       "</div>"
      ],
      "text/plain": [
       "   Unnamed: 0                id  \\\n",
       "0           0  0000997932d777bf   \n",
       "1           1  000103f0d9cfb60f   \n",
       "2           2  000113f07ec002fd   \n",
       "3           3  0001b41b1c6bb37e   \n",
       "4           4  0001d958c54c6e35   \n",
       "5           5  00025465d4725e87   \n",
       "6           6  0002bcb3da6cb337   \n",
       "7           7  00031b1e95af7921   \n",
       "8           8  00037261f536c51d   \n",
       "9           9  00040093b2687caa   \n",
       "\n",
       "                                        comment_text  toxic  severe_toxic  \\\n",
       "0  Explanation\\r\\nWhy the edits made under my use...      0             0   \n",
       "1  D'aww! He matches this background colour I'm s...      0             0   \n",
       "2  Hey man, I'm really not trying to edit war. It...      0             0   \n",
       "3  \"\\r\\nMore\\r\\nI can't make any real suggestions...      0             0   \n",
       "4  You, sir, are my hero. Any chance you remember...      0             0   \n",
       "5  \"\\r\\n\\r\\nCongratulations from me as well, use ...      0             0   \n",
       "6       COCKSUCKER BEFORE YOU PISS AROUND ON MY WORK      1             1   \n",
       "7  Your vandalism to the Matt Shirvington article...      0             0   \n",
       "8  Sorry if the word 'nonsense' was offensive to ...      0             0   \n",
       "9  alignment on this subject and which are contra...      0             0   \n",
       "\n",
       "   obscene  threat  insult  identity_hate  compound  positive  negative  \\\n",
       "0        0       0       0              0    0.5574     0.103     0.000   \n",
       "1        0       0       0              0    0.2942     0.158     0.099   \n",
       "2        0       0       0              0   -0.1779     0.068     0.083   \n",
       "3        0       0       0              0    0.5106     0.062     0.022   \n",
       "4        0       0       0              0    0.6808     0.337     0.000   \n",
       "5        0       0       0              0    0.7964     0.503     0.000   \n",
       "6        1       0       1              0   -0.7783     0.000     0.531   \n",
       "7        0       0       0              0   -0.1779     0.099     0.129   \n",
       "8        0       0       0              0   -0.8020     0.000     0.109   \n",
       "9        0       0       0              0    0.0000     0.000     0.000   \n",
       "\n",
       "   neutral  \n",
       "0    0.897  \n",
       "1    0.743  \n",
       "2    0.849  \n",
       "3    0.916  \n",
       "4    0.663  \n",
       "5    0.497  \n",
       "6    0.469  \n",
       "7    0.773  \n",
       "8    0.891  \n",
       "9    1.000  "
      ]
     },
     "execution_count": 2,
     "metadata": {},
     "output_type": "execute_result"
    }
   ],
   "source": [
    "#importing updated training csv that contains VADER sentiment analysis columns\n",
    "train1 = \"Resources/train_sentiment.csv\"\n",
    "train_df = pd.read_csv(train1, encoding=\"ISO-8859-1\")\n",
    "train_df.head(10)"
   ]
  },
  {
   "cell_type": "code",
   "execution_count": 3,
   "metadata": {},
   "outputs": [],
   "source": [
    "#Replacing all instances of 0 and 1 for the toxic column as nontoxic and toxicc\n",
    "t = {0: 'nontoxic', 1: 'toxicc'}\n",
    "toxic_comment = train_df['toxic']\n",
    "txc = [t[k] for k in toxic_comment]\n",
    "#print(lst)\n",
    "# adding the updated column with toxicc and nontoxic values to train_df\n",
    "train_df['new_toxic'] = txc\n",
    "\n"
   ]
  },
  {
   "cell_type": "code",
   "execution_count": 31,
   "metadata": {},
   "outputs": [
    {
     "name": "stdout",
     "output_type": "stream",
     "text": [
      "(159571, 4) (159571,)\n"
     ]
    }
   ],
   "source": [
    "# Assign X (data) and y (target)\n",
    "X = train_df[['compound','positive','negative','neutral']]\n",
    "y = train_df['new_toxic']\n",
    "#ignore   .reshape(-1, 1)\n",
    "print(X.shape, y.shape)"
   ]
  },
  {
   "cell_type": "code",
   "execution_count": 32,
   "metadata": {},
   "outputs": [],
   "source": [
    "from sklearn.model_selection import train_test_split\n",
    "\n",
    "X_train, X_test, y_train, y_test = train_test_split(X, y, random_state=1, stratify=y)\n"
   ]
  },
  {
   "cell_type": "code",
   "execution_count": 33,
   "metadata": {},
   "outputs": [
    {
     "data": {
      "text/plain": [
       "LogisticRegression(C=1.0, class_weight=None, dual=False, fit_intercept=True,\n",
       "          intercept_scaling=1, max_iter=100, multi_class='warn',\n",
       "          n_jobs=None, penalty='l2', random_state=None, solver='warn',\n",
       "          tol=0.0001, verbose=0, warm_start=False)"
      ]
     },
     "execution_count": 33,
     "metadata": {},
     "output_type": "execute_result"
    }
   ],
   "source": [
    "#importing logistic regression\n",
    "from sklearn.linear_model import LogisticRegression\n",
    "classifier = LogisticRegression()\n",
    "classifier"
   ]
  },
  {
   "cell_type": "code",
   "execution_count": 34,
   "metadata": {},
   "outputs": [
    {
     "name": "stderr",
     "output_type": "stream",
     "text": [
      "C:\\Users\\Joe\\Anaconda3\\envs\\pythondata\\lib\\site-packages\\sklearn\\linear_model\\logistic.py:432: FutureWarning: Default solver will be changed to 'lbfgs' in 0.22. Specify a solver to silence this warning.\n",
      "  FutureWarning)\n"
     ]
    },
    {
     "data": {
      "text/plain": [
       "LogisticRegression(C=1.0, class_weight=None, dual=False, fit_intercept=True,\n",
       "          intercept_scaling=1, max_iter=100, multi_class='warn',\n",
       "          n_jobs=None, penalty='l2', random_state=None, solver='warn',\n",
       "          tol=0.0001, verbose=0, warm_start=False)"
      ]
     },
     "execution_count": 34,
     "metadata": {},
     "output_type": "execute_result"
    }
   ],
   "source": [
    "#fitting our X and y train data\n",
    "classifier.fit(X_train, y_train)"
   ]
  },
  {
   "cell_type": "code",
   "execution_count": 35,
   "metadata": {},
   "outputs": [
    {
     "name": "stdout",
     "output_type": "stream",
     "text": [
      "Training Data Score: 0.9177710189007169\n",
      "Testing Data Score: 0.9183816709698444\n"
     ]
    }
   ],
   "source": [
    "print(f\"Training Data Score: {classifier.score(X_train, y_train)}\")\n",
    "print(f\"Testing Data Score: {classifier.score(X_test, y_test)}\")"
   ]
  },
  {
   "cell_type": "code",
   "execution_count": 36,
   "metadata": {},
   "outputs": [],
   "source": [
    "\n",
    "    # Print Samples and Analysis\n",
    "    #print(text)\n",
    "   #print(\"Compound Score:\", compound)\n",
    "    #print(\"Positive Score:\", pos)\n",
    "    #print(\"Neutral Score:\", neu)\n",
    "   # print(\"Negative Score: \", neg)"
   ]
  },
  {
   "cell_type": "code",
   "execution_count": 37,
   "metadata": {},
   "outputs": [
    {
     "name": "stdout",
     "output_type": "stream",
     "text": [
      "First 80 Predictions:   ['nontoxic' 'nontoxic' 'nontoxic' 'nontoxic' 'nontoxic' 'nontoxic'\n",
      " 'nontoxic' 'nontoxic' 'nontoxic' 'nontoxic' 'nontoxic' 'nontoxic'\n",
      " 'nontoxic' 'nontoxic' 'nontoxic' 'nontoxic' 'nontoxic' 'nontoxic'\n",
      " 'nontoxic' 'nontoxic' 'nontoxic' 'nontoxic' 'nontoxic' 'nontoxic'\n",
      " 'nontoxic' 'nontoxic' 'nontoxic' 'nontoxic' 'nontoxic' 'nontoxic'\n",
      " 'nontoxic' 'nontoxic' 'nontoxic' 'nontoxic' 'nontoxic' 'nontoxic'\n",
      " 'nontoxic' 'nontoxic' 'nontoxic' 'toxicc' 'nontoxic' 'nontoxic'\n",
      " 'nontoxic' 'nontoxic' 'nontoxic' 'nontoxic' 'toxicc' 'nontoxic'\n",
      " 'nontoxic' 'nontoxic' 'nontoxic' 'nontoxic' 'nontoxic' 'toxicc'\n",
      " 'nontoxic' 'nontoxic' 'nontoxic' 'nontoxic' 'nontoxic' 'nontoxic'\n",
      " 'nontoxic' 'nontoxic' 'nontoxic' 'nontoxic' 'nontoxic' 'nontoxic'\n",
      " 'nontoxic' 'toxicc' 'nontoxic' 'nontoxic' 'nontoxic' 'nontoxic'\n",
      " 'nontoxic' 'nontoxic' 'nontoxic' 'nontoxic' 'nontoxic' 'nontoxic'\n",
      " 'nontoxic' 'nontoxic']\n",
      "First 80 Actual labels: ['nontoxic', 'nontoxic', 'nontoxic', 'nontoxic', 'nontoxic', 'nontoxic', 'nontoxic', 'nontoxic', 'nontoxic', 'nontoxic', 'nontoxic', 'nontoxic', 'nontoxic', 'nontoxic', 'nontoxic', 'nontoxic', 'nontoxic', 'nontoxic', 'nontoxic', 'nontoxic', 'nontoxic', 'nontoxic', 'nontoxic', 'nontoxic', 'nontoxic', 'nontoxic', 'nontoxic', 'nontoxic', 'nontoxic', 'nontoxic', 'nontoxic', 'toxicc', 'nontoxic', 'nontoxic', 'nontoxic', 'nontoxic', 'nontoxic', 'nontoxic', 'nontoxic', 'nontoxic', 'nontoxic', 'nontoxic', 'nontoxic', 'nontoxic', 'nontoxic', 'nontoxic', 'toxicc', 'nontoxic', 'nontoxic', 'nontoxic', 'nontoxic', 'nontoxic', 'nontoxic', 'toxicc', 'toxicc', 'toxicc', 'nontoxic', 'nontoxic', 'nontoxic', 'nontoxic', 'nontoxic', 'nontoxic', 'nontoxic', 'toxicc', 'nontoxic', 'nontoxic', 'toxicc', 'toxicc', 'nontoxic', 'toxicc', 'toxicc', 'nontoxic', 'nontoxic', 'nontoxic', 'nontoxic', 'toxicc', 'nontoxic', 'toxicc', 'nontoxic', 'nontoxic']\n"
     ]
    }
   ],
   "source": [
    "#getting 10 predictions and 10 actual results\n",
    "predictions = classifier.predict(X_test)\n",
    "print(f\"First 80 Predictions:   {predictions[:80]}\")\n",
    "print(f\"First 80 Actual labels: {y_test[:80].tolist()}\")"
   ]
  },
  {
   "cell_type": "code",
   "execution_count": 38,
   "metadata": {},
   "outputs": [
    {
     "name": "stdout",
     "output_type": "stream",
     "text": [
      "<bound method Series.count of 0         Explanation\\r\\nWhy the edits made under my use...\n",
      "1         D'aww! He matches this background colour I'm s...\n",
      "2         Hey man, I'm really not trying to edit war. It...\n",
      "3         \"\\r\\nMore\\r\\nI can't make any real suggestions...\n",
      "4         You, sir, are my hero. Any chance you remember...\n",
      "5         \"\\r\\n\\r\\nCongratulations from me as well, use ...\n",
      "6              COCKSUCKER BEFORE YOU PISS AROUND ON MY WORK\n",
      "7         Your vandalism to the Matt Shirvington article...\n",
      "8         Sorry if the word 'nonsense' was offensive to ...\n",
      "9         alignment on this subject and which are contra...\n",
      "10        \"\\r\\nFair use rationale for Image:Wonju.jpg\\r\\...\n",
      "11        bbq \\r\\n\\r\\nbe a man and lets discuss it-maybe...\n",
      "12        Hey... what is it..\\r\\n@ | talk .\\r\\nWhat is i...\n",
      "13        Before you start throwing accusations and warn...\n",
      "14        Oh, and the girl above started her arguments w...\n",
      "15        \"\\r\\n\\r\\nJuelz Santanas Age\\r\\n\\r\\nIn 2002, Ju...\n",
      "16        Bye! \\r\\n\\r\\nDon't look, come or think of comm...\n",
      "17         REDIRECT Talk:Voydan Pop Georgiev- Chernodrinski\n",
      "18        The Mitsurugi point made no sense - why not ar...\n",
      "19        Don't mean to bother you \\r\\n\\r\\nI see that yo...\n",
      "20        \"\\r\\n\\r\\n Regarding your recent edits \\r\\n\\r\\n...\n",
      "21        \"\\r\\nGood to know. About me, yeah, I'm studyin...\n",
      "22        \"\\r\\n\\r\\n Snowflakes are NOT always symmetrica...\n",
      "23        \"\\r\\n\\r\\n The Signpost: 24 September 2012 \\r\\n...\n",
      "24        \"\\r\\n\\r\\nRe-considering 1st paragraph edit?\\r\\...\n",
      "25        Radial symmetry \\r\\n\\r\\nSeveral now extinct li...\n",
      "26        There's no need to apologize. A Wikipedia arti...\n",
      "27        Yes, because the mother of the child in the ca...\n",
      "28        \"\\r\\nOk. But it will take a bit of work but I ...\n",
      "29        \"== A barnstar for you! ==\\r\\n\\r\\n  The Real L...\n",
      "                                ...                        \n",
      "159541    Your absurd edits \\r\\n\\r\\nYour absurd edits on...\n",
      "159542    maybe he's got better things to do than spend ...\n",
      "159543    scrap that, it does meet criteria and its gone...\n",
      "159544                                  You could do worse.\n",
      "159545    , 7 March 2011 (UTC)\\r\\nAre you also User:Bmat...\n",
      "159546    \"\\r\\n\\r\\nHey listen don't you ever!!!! Delete ...\n",
      "159547               Thank you very, very much.  ÃÂ·Ã¢ÂÂ\n",
      "159548                          Talkback: 15 September 2012\n",
      "159549                         2005 (UTC)\\r\\n 06:35, 31 Mar\n",
      "159550    i agree/ on another note lil wayne is a talent...\n",
      "159551    While about half the references are from BYU-I...\n",
      "159552    Prague Spring \\r\\n\\r\\nI think that Prague Spri...\n",
      "159553    I see this as having been merged; undoing one ...\n",
      "159554    and i'm going to keep posting the stuff u dele...\n",
      "159555    \"\\r\\n\\r\\nHow come when you download that MP3 i...\n",
      "159556    I'll be on IRC, too, if you have a more specif...\n",
      "159557    It is my opinion that that happens to be off-t...\n",
      "159558    Please stop removing content from Wikipedia; i...\n",
      "159559    Image:Barack-obama-mother.jpg listed for delet...\n",
      "159560    \"Editing of article without Consensus & Remova...\n",
      "159561    \"\\r\\nNo he did not, read it again (I would hav...\n",
      "159562    \"\\r\\n Auto guides and the motoring press are n...\n",
      "159563    \"\\r\\nplease identify what part of BLP applies ...\n",
      "159564    Catalan independentism is the social movement ...\n",
      "159565    The numbers in parentheses are the additional ...\n",
      "159566    \":::::And for the second time of asking, when ...\n",
      "159567    You should be ashamed of yourself \\r\\n\\r\\nThat...\n",
      "159568    Spitzer \\r\\n\\r\\nUmm, theres no actual article ...\n",
      "159569    And it looks like it was actually you who put ...\n",
      "159570    \"\\r\\nAnd ... I really don't think you understa...\n",
      "Name: comment_text, Length: 159571, dtype: object>\n"
     ]
    }
   ],
   "source": [
    "#ncolumns = train_df[['comment_text','compound']]\n",
    "count_comments = train_df['comment_text'].count\n",
    "print(count_comments)"
   ]
  },
  {
   "cell_type": "code",
   "execution_count": 40,
   "metadata": {},
   "outputs": [],
   "source": [
    "#creating a dataframe to view the results\n",
    "Actual_prediction = pd.DataFrame({\"Prediction\": predictions, \"Actual\": y_test}).reset_index(drop=True)"
   ]
  },
  {
   "cell_type": "code",
   "execution_count": 65,
   "metadata": {},
   "outputs": [
    {
     "name": "stdout",
     "output_type": "stream",
     "text": [
      "nontoxic    36069\n",
      "toxicc       3824\n",
      "Name: Actual, dtype: int64\n",
      "nontoxic    38559\n",
      "toxicc       1334\n",
      "Name: Prediction, dtype: int64\n"
     ]
    }
   ],
   "source": [
    "Actual_value = Actual_prediction['Actual'].value_counts()\n",
    "Prediction_value = Actual_prediction['Prediction'].value_counts()\n",
    "\n",
    "print(Actual_value)\n",
    "print(Prediction_value)"
   ]
  },
  {
   "cell_type": "code",
   "execution_count": 66,
   "metadata": {},
   "outputs": [
    {
     "data": {
      "text/html": [
       "<div>\n",
       "<style scoped>\n",
       "    .dataframe tbody tr th:only-of-type {\n",
       "        vertical-align: middle;\n",
       "    }\n",
       "\n",
       "    .dataframe tbody tr th {\n",
       "        vertical-align: top;\n",
       "    }\n",
       "\n",
       "    .dataframe thead th {\n",
       "        text-align: right;\n",
       "    }\n",
       "</style>\n",
       "<table border=\"1\" class=\"dataframe\">\n",
       "  <thead>\n",
       "    <tr style=\"text-align: right;\">\n",
       "      <th></th>\n",
       "      <th>Actual</th>\n",
       "      <th>Prediction</th>\n",
       "    </tr>\n",
       "  </thead>\n",
       "  <tbody>\n",
       "    <tr>\n",
       "      <th>nontoxic</th>\n",
       "      <td>36069</td>\n",
       "      <td>38559</td>\n",
       "    </tr>\n",
       "    <tr>\n",
       "      <th>toxicc</th>\n",
       "      <td>3824</td>\n",
       "      <td>1334</td>\n",
       "    </tr>\n",
       "  </tbody>\n",
       "</table>\n",
       "</div>"
      ],
      "text/plain": [
       "          Actual  Prediction\n",
       "nontoxic   36069       38559\n",
       "toxicc      3824        1334"
      ]
     },
     "execution_count": 66,
     "metadata": {},
     "output_type": "execute_result"
    }
   ],
   "source": [
    "Actual_prediction_df = pd.DataFrame({\"Actual\":Actual_value,\"Prediction\":Prediction_value})\n",
    "Actual_prediction_df"
   ]
  },
  {
   "cell_type": "code",
   "execution_count": null,
   "metadata": {},
   "outputs": [],
   "source": []
  },
  {
   "cell_type": "code",
   "execution_count": 41,
   "metadata": {},
   "outputs": [
    {
     "name": "stdout",
     "output_type": "stream",
     "text": [
      "         Actual Prediction\n",
      "0      nontoxic   nontoxic\n",
      "1      nontoxic   nontoxic\n",
      "2      nontoxic   nontoxic\n",
      "3      nontoxic   nontoxic\n",
      "4      nontoxic   nontoxic\n",
      "5      nontoxic   nontoxic\n",
      "6      nontoxic   nontoxic\n",
      "7      nontoxic   nontoxic\n",
      "8      nontoxic   nontoxic\n",
      "9      nontoxic   nontoxic\n",
      "10     nontoxic   nontoxic\n",
      "11     nontoxic   nontoxic\n",
      "12     nontoxic   nontoxic\n",
      "13     nontoxic   nontoxic\n",
      "14     nontoxic   nontoxic\n",
      "15     nontoxic   nontoxic\n",
      "16     nontoxic   nontoxic\n",
      "17     nontoxic   nontoxic\n",
      "18     nontoxic   nontoxic\n",
      "19     nontoxic   nontoxic\n",
      "20     nontoxic   nontoxic\n",
      "21     nontoxic   nontoxic\n",
      "22     nontoxic   nontoxic\n",
      "23     nontoxic   nontoxic\n",
      "24     nontoxic   nontoxic\n",
      "25     nontoxic   nontoxic\n",
      "26     nontoxic   nontoxic\n",
      "27     nontoxic   nontoxic\n",
      "28     nontoxic   nontoxic\n",
      "29     nontoxic   nontoxic\n",
      "...         ...        ...\n",
      "39863  nontoxic   nontoxic\n",
      "39864  nontoxic   nontoxic\n",
      "39865  nontoxic   nontoxic\n",
      "39866  nontoxic   nontoxic\n",
      "39867  nontoxic   nontoxic\n",
      "39868  nontoxic   nontoxic\n",
      "39869  nontoxic   nontoxic\n",
      "39870  nontoxic   nontoxic\n",
      "39871  nontoxic   nontoxic\n",
      "39872  nontoxic   nontoxic\n",
      "39873  nontoxic   nontoxic\n",
      "39874  nontoxic   nontoxic\n",
      "39875  nontoxic   nontoxic\n",
      "39876  nontoxic   nontoxic\n",
      "39877  nontoxic   nontoxic\n",
      "39878  nontoxic   nontoxic\n",
      "39879  nontoxic   nontoxic\n",
      "39880  nontoxic   nontoxic\n",
      "39881  nontoxic   nontoxic\n",
      "39882  nontoxic   nontoxic\n",
      "39883  nontoxic   nontoxic\n",
      "39884  nontoxic   nontoxic\n",
      "39885  nontoxic   nontoxic\n",
      "39886  nontoxic   nontoxic\n",
      "39887  nontoxic   nontoxic\n",
      "39888  nontoxic   nontoxic\n",
      "39889  nontoxic   nontoxic\n",
      "39890  nontoxic   nontoxic\n",
      "39891  nontoxic   nontoxic\n",
      "39892  nontoxic   nontoxic\n",
      "\n",
      "[39893 rows x 2 columns]\n"
     ]
    }
   ],
   "source": [
    "print(Actual_prediction)"
   ]
  },
  {
   "cell_type": "code",
   "execution_count": 67,
   "metadata": {},
   "outputs": [],
   "source": [
    "Actual_prediction.to_csv('Actual_prediction.csv', sep=',')\n",
    "Actual_prediction_df.to_csv('Actual_prediction_df.csv', sep=',')"
   ]
  },
  {
   "cell_type": "code",
   "execution_count": null,
   "metadata": {},
   "outputs": [],
   "source": []
  }
 ],
 "metadata": {
  "kernelspec": {
   "display_name": "Python 3",
   "language": "python",
   "name": "python3"
  },
  "language_info": {
   "codemirror_mode": {
    "name": "ipython",
    "version": 3
   },
   "file_extension": ".py",
   "mimetype": "text/x-python",
   "name": "python",
   "nbconvert_exporter": "python",
   "pygments_lexer": "ipython3",
   "version": "3.6.4"
  }
 },
 "nbformat": 4,
 "nbformat_minor": 2
}
