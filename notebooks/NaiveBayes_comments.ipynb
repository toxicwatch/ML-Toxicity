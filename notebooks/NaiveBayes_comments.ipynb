{
 "cells": [
  {
   "cell_type": "code",
   "execution_count": 1,
   "metadata": {},
   "outputs": [],
   "source": [
    "import nltk.classify.util\n",
    "from nltk.classify import NaiveBayesClassifier\n",
    "from nltk.corpus import names"
   ]
  },
  {
   "cell_type": "code",
   "execution_count": 2,
   "metadata": {},
   "outputs": [],
   "source": [
    "def word_feats(words):\n",
    "    return dict([(word, True) for word in words])\n",
    " \n",
    "positive_vocab = [ 'awesome', 'outstanding', 'fantastic', 'terrific', 'good', 'nice', 'great', ':)' ]\n",
    "negative_vocab = [ 'bad', 'terrible','useless', 'hate', 'horrible', ':(' , 'fuck','bloody','asshole','fucker']\n",
    "neutral_vocab = [ 'i', 'it', 'movie','the','sound','was','is','actors','did','know','words','not' ]\n",
    "discard_vocab = ['I', 'i', 'it']\n",
    "\n",
    "positive_features = [(word_feats(pos), 'pos') for pos in positive_vocab]\n",
    "negative_features = [(word_feats(neg), 'neg') for neg in negative_vocab]\n",
    "neutral_features = [(word_feats(neu), 'neu') for neu in neutral_vocab]\n",
    "discard_features = [(word_feats(dis),'dis') for dis in discard_vocab]\n"
   ]
  },
  {
   "cell_type": "code",
   "execution_count": 3,
   "metadata": {},
   "outputs": [],
   "source": [
    "train_set = negative_features + positive_features + neutral_features + discard_features"
   ]
  },
  {
   "cell_type": "code",
   "execution_count": 4,
   "metadata": {},
   "outputs": [
    {
     "name": "stdout",
     "output_type": "stream",
     "text": [
      "<nltk.classify.naivebayes.NaiveBayesClassifier object at 0x000000C0C00BB390>\n"
     ]
    }
   ],
   "source": [
    "classifier = NaiveBayesClassifier.train(train_set) \n",
    "print (classifier)"
   ]
  },
  {
   "cell_type": "code",
   "execution_count": 5,
   "metadata": {},
   "outputs": [
    {
     "name": "stdout",
     "output_type": "stream",
     "text": [
      "horrible found neg\n",
      "movie, found pos\n",
      "i found neu\n",
      "hated found neg\n",
      "it found pos\n",
      "fucker found neg\n",
      "2\n",
      "3\n",
      "Positive: 0.3333333333333333\n",
      "Negative: 0.5\n"
     ]
    }
   ],
   "source": [
    "# Predict\n",
    "neg = 0\n",
    "pos = 0\n",
    "neu = 0\n",
    "sentence = \"Horrible movie, I hated it fucker\"\n",
    "sentence = sentence.lower()\n",
    "words = sentence.split(' ')\n",
    "for word in words:\n",
    "\n",
    "\t# print(word)\n",
    "    classResult = classifier.classify(word_feats(word))\n",
    "    if classResult == 'neg':\n",
    "    \tprint(word, 'found neg')\n",
    "    \tneg = neg + 1\n",
    "    if classResult == 'pos':\n",
    "    \tprint(word, 'found pos')\n",
    "    \tpos = pos + 1\n",
    "    if classResult == 'neu':\n",
    "    \tprint(word, 'found neu')\n",
    "    \tneu = neu + 1\n",
    "\n",
    "print(pos)\n",
    "print(neg)\n",
    "print('Positive: ' + str(float(pos)/len(words)))\n",
    "print('Negative: ' + str(float(neg)/len(words)))"
   ]
  },
  {
   "cell_type": "code",
   "execution_count": null,
   "metadata": {},
   "outputs": [],
   "source": []
  }
 ],
 "metadata": {
  "kernelspec": {
   "display_name": "Python 3",
   "language": "python",
   "name": "python3"
  },
  "language_info": {
   "codemirror_mode": {
    "name": "ipython",
    "version": 3
   },
   "file_extension": ".py",
   "mimetype": "text/x-python",
   "name": "python",
   "nbconvert_exporter": "python",
   "pygments_lexer": "ipython3",
   "version": "3.6.4"
  }
 },
 "nbformat": 4,
 "nbformat_minor": 2
}
